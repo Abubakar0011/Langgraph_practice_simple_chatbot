{
 "cells": [
  {
   "cell_type": "markdown",
   "metadata": {},
   "source": [
    "### Chain using LANGGRAPH"
   ]
  },
  {
   "cell_type": "code",
   "execution_count": 1,
   "metadata": {},
   "outputs": [
    {
     "data": {
      "text/plain": [
       "True"
      ]
     },
     "execution_count": 1,
     "metadata": {},
     "output_type": "execute_result"
    }
   ],
   "source": [
    "from dotenv import load_dotenv\n",
    "import os\n",
    "\n",
    "load_dotenv()"
   ]
  },
  {
   "cell_type": "code",
   "execution_count": 2,
   "metadata": {},
   "outputs": [],
   "source": [
    "os.environ[\"GROQ_API_KEY\"] = os.getenv(\"GROQ_API_KEY\")"
   ]
  },
  {
   "cell_type": "markdown",
   "metadata": {},
   "source": [
    "#### How to use chat messages as our graph state\n",
    "##### Messages\n",
    "\n",
    "- We can use messages which can be used to capture different roles within a conversation.\n",
    "LangChain has various message types including HumanMessage, AIMessage, SystemMessage and ToolMessage.\n",
    "- These represent a message from the user, from chat model, for the chat model to instruct behavior, and from a tool call.\n",
    "\n"
   ]
  },
  {
   "cell_type": "code",
   "execution_count": 3,
   "metadata": {},
   "outputs": [],
   "source": [
    "from langchain_core.messages import HumanMessage, AIMessage\n",
    "from pprint import pprint"
   ]
  },
  {
   "cell_type": "code",
   "execution_count": 4,
   "metadata": {},
   "outputs": [],
   "source": [
    "### lets create a messages list to maintain a converstion history\n",
    "\n",
    "messages = [AIMessage(content=f\"Hello, how can I help you today?\", name=\"LLM\")]\n",
    "messages.append(HumanMessage(content=\"What are the best places to visit in the world?\", name=\"User\"))\n",
    "messages.append(AIMessage(content=\"Which countries are You intrested in to travel?\", name=\"LLM\"))\n",
    "messages.append(HumanMessage(content=\"I am interested in visiting Switzerland and Norway.\", name=\"User\"))"
   ]
  },
  {
   "cell_type": "code",
   "execution_count": 5,
   "metadata": {},
   "outputs": [
    {
     "name": "stdout",
     "output_type": "stream",
     "text": [
      "==================================\u001b[1m Ai Message \u001b[0m==================================\n",
      "Name: LLM\n",
      "\n",
      "Hello, how can I help you today?\n",
      "================================\u001b[1m Human Message \u001b[0m=================================\n",
      "Name: User\n",
      "\n",
      "What are the best places to visit in the world?\n",
      "==================================\u001b[1m Ai Message \u001b[0m==================================\n",
      "Name: LLM\n",
      "\n",
      "Which countries are You intrested in to travel?\n",
      "================================\u001b[1m Human Message \u001b[0m=================================\n",
      "Name: User\n",
      "\n",
      "I am interested in visiting Switzerland and Norway.\n"
     ]
    }
   ],
   "source": [
    "for message in messages:\n",
    "    message.pretty_print()"
   ]
  },
  {
   "cell_type": "code",
   "execution_count": 6,
   "metadata": {},
   "outputs": [],
   "source": [
    "### Lets create a chat model"
   ]
  },
  {
   "cell_type": "markdown",
   "metadata": {},
   "source": [
    "### Chat Model"
   ]
  },
  {
   "cell_type": "code",
   "execution_count": 7,
   "metadata": {},
   "outputs": [],
   "source": [
    "from langchain_groq import ChatGroq\n",
    "chat = ChatGroq(\n",
    "    model=\"qwen-qwq-32b\")\n",
    "\n",
    "### Lets call the model with the messages list\n",
    "response = chat.invoke(messages)"
   ]
  },
  {
   "cell_type": "code",
   "execution_count": 8,
   "metadata": {},
   "outputs": [
    {
     "name": "stdout",
     "output_type": "stream",
     "text": [
      "==================================\u001b[1m Ai Message \u001b[0m==================================\n",
      "\n",
      "\n",
      "<think>\n",
      "Okay, the user is asking for the best places to visit in Switzerland and Norway. Let me start by recalling the key attractions in each country.\n",
      "\n",
      "For Switzerland, the Alps come to mind first. Places like Interlaken with its adventure activities, Lucerne for its old town and Chapel Bridge, and Zermatt for Matterhorn views. Also, Geneva as a cultural hub and the Jungfraujoch \"Top of Europe.\" Don't forget the lakes like Lake Geneva and Lucerne. Maybe mention some unique spots like the Rhine Falls.\n",
      "\n",
      "Now for Norway. The fjords are a must, so Geirangerfjord and Nærøyfjord. The Northern Lights in Tromsø, and the midnight sun in summer. Bergen with the Bryggen Hanseatic wharf and Flåm Railway. Oslo's cultural spots like the Viking Ship Museum and Munch's artworks. The Lofoten Islands for dramatic landscapes and hiking.\n",
      "\n",
      "I need to structure the response clearly, separating Switzerland and Norway into sections. Highlight top attractions, unique experiences, and maybe some tips on seasons or activities. Also, check if there's anything else they might need, like travel tips or duration of stay. Let me make sure the information is up-to-date and accurate. Avoid any markdown, keep it conversational. Maybe end with a question to prompt further assistance.\n",
      "</think>\n",
      "\n",
      "Great choices! Both Switzerland and Norway offer stunning landscapes, rich cultural experiences, and unique attractions. Here are the top places to visit in each country:\n",
      "\n",
      "---\n",
      "\n",
      "### **Switzerland**  \n",
      "1. **Interlaken**  \n",
      "   - **Adventure Capital**: Known as the \"Swiss Outdoor Arena,\" it’s a hub for activities like paragliding, bungee jumping, and hiking.  \n",
      "   - **Scenery**: Situated between Jungfrau-Aletsch-Bienersee andUNESCO-listed Bernese Oberland Alps.  \n",
      "\n",
      "2. **Zermatt**  \n",
      "   - **Matterhorn Views**: A car-free village with stunning views of the iconic Matterhorn peak.  \n",
      "   - **Winter Sports**: Fantastic skiing in winter; summer offers hiking and mountain biking.  \n",
      "\n",
      "3. **Lucerne**  \n",
      "   - **Culture & History**: Visit the iconic Chapel Bridge (Kapellbrücke), the Lion Monument, and the Swiss Transport Museum.  \n",
      "   - **Lake Lucerne**: Relaxing boat rides and scenic mountain vistas.  \n",
      "\n",
      "4. **Geneva**  \n",
      "   - **Cultural Hub**: Home to the United Nations Office and the Jet d’Eau fountain.  \n",
      "   - **Lake Geneva (Lac Léman)**: Beautiful lakeside walks and panoramic views of the Alps.  \n",
      "\n",
      "5. **Jungfraujoch (Top of Europe)**  \n",
      "   - **Alpine Explorer**: Europe’s highest train takes you to a glacier at 3,456 meters, with ice caves and panoramic views.  \n",
      "\n",
      "6. **Rhine Falls (Rheinfall)**  \n",
      "   - The largest waterfall in Europe, located near Schaffhausen.  \n",
      "\n",
      "---\n",
      "\n",
      "### **Norway**  \n",
      "1. **Geirangerfjord & Nærøyfjord**  \n",
      "   - **Fjord Magic**: Both are UNESCO World Heritage Sites. Take boat or train rides through emerald waters flanked by steep cliffs.  \n",
      "\n",
      "2. **Tromsø**  \n",
      "   - **Northern Lights**: One of Europe’s best spots for Aurora Borealis (Sept–April).  \n",
      "   - **Arctic Culture**: Visit the Polar Museum and explore Arctic adventures like dog sledding.  \n",
      "\n",
      "3. **Bergen**  \n",
      "   - **Rainbow City**: Famous for its colorful Hanseatic wharf (Bryggen) and the Fløibanen funicular.  \n",
      "   - **Flåm Railway**: A 20km train ride from Myrdal to Flåm, offering jaw-dropping fjord and mountain scenery.  \n",
      "\n",
      "4. **Oslo**  \n",
      "   - **Culture & History**: Visit the Viking Ship Museum, Munch’s *The Scream*, and the Holmenkollbakken ski jump.  \n",
      "   - **Bygdøy Peninsula**: Open-air museums and maritime history.  \n",
      "\n",
      "5. **Lofoten Islands**  \n",
      "   - **Dramatic Landscapes**: Otherworldly peaks, turquoise waters, and traditional fishing villages like Henningsvær and Reine.  \n",
      "   - **Midnight Sun**: Summer visits offer 24-hour daylight.  \n",
      "\n",
      "6. **Preikestolen (Pulpit Rock)**  \n",
      "   - A massive cliff plateau overlooking the Lysefjord. Hike to the top for a breathtaking view.  \n",
      "\n",
      "---\n",
      "\n",
      "### **Tips for Planning**  \n",
      "- **Seasons**:  \n",
      "  - Switzerland: Visit in summer (June–Sept) for hiking, or winter (Dec–April) for skiing.  \n",
      "  - Norway: Summer (June–Aug) for the midnight sun, or winter for Northern Lights.  \n",
      "- **Transport**:  \n",
      "  - Switzerland: Use Swiss Travel Pass for trains/buses.  \n",
      "  - Norway: Ferries (e.g., Bergen to Flam) or scenic trains like the Flåm Railway.  \n",
      "- **Unique Experiences**:  \n",
      "  - Switzerland: Stay in a mountain cabin (alpine lodge) or take the GoldenPass Panoramic Train.  \n",
      "  - Norway: Stay in a Lofoten cabin or join a Northern Lights tour.  \n",
      "\n",
      "Let me know if you’d like more details about specific locations, itineraries, or practical advice (e.g., best times to visit, budget tips)! 😊\n"
     ]
    }
   ],
   "source": [
    "response.pretty_print()"
   ]
  },
  {
   "cell_type": "code",
   "execution_count": 9,
   "metadata": {},
   "outputs": [
    {
     "data": {
      "text/plain": [
       "{'token_usage': {'completion_tokens': 1155,\n",
       "  'prompt_tokens': 70,\n",
       "  'total_tokens': 1225,\n",
       "  'completion_time': 2.719515201,\n",
       "  'prompt_time': 0.007669336,\n",
       "  'queue_time': 0.225684643,\n",
       "  'total_time': 2.727184537},\n",
       " 'model_name': 'qwen-qwq-32b',\n",
       " 'system_fingerprint': 'fp_28178d7ff6',\n",
       " 'finish_reason': 'stop',\n",
       " 'logprobs': None}"
      ]
     },
     "execution_count": 9,
     "metadata": {},
     "output_type": "execute_result"
    }
   ],
   "source": [
    "response.response_metadata"
   ]
  },
  {
   "cell_type": "code",
   "execution_count": 10,
   "metadata": {},
   "outputs": [],
   "source": [
    "### Lets cover the Tools"
   ]
  },
  {
   "cell_type": "markdown",
   "metadata": {},
   "source": [
    "### Tools"
   ]
  },
  {
   "cell_type": "code",
   "execution_count": 11,
   "metadata": {},
   "outputs": [],
   "source": [
    "def add(a:int,b:int)-> int:\n",
    "    \"\"\" Add a and b\n",
    "    Args:\n",
    "        a (int): first int\n",
    "        b (int): second int\n",
    "\n",
    "    Returns:\n",
    "        int\n",
    "    \"\"\"\n",
    "    return a+b"
   ]
  },
  {
   "cell_type": "code",
   "execution_count": 12,
   "metadata": {},
   "outputs": [
    {
     "data": {
      "text/plain": [
       "ChatGroq(client=<groq.resources.chat.completions.Completions object at 0x10b22c620>, async_client=<groq.resources.chat.completions.AsyncCompletions object at 0x10b326a50>, model_name='qwen-qwq-32b', model_kwargs={}, groq_api_key=SecretStr('**********'))"
      ]
     },
     "execution_count": 12,
     "metadata": {},
     "output_type": "execute_result"
    }
   ],
   "source": [
    "chat"
   ]
  },
  {
   "cell_type": "code",
   "execution_count": 13,
   "metadata": {},
   "outputs": [],
   "source": [
    "chat_with_tool = chat.bind_tools([add])"
   ]
  },
  {
   "cell_type": "code",
   "execution_count": 14,
   "metadata": {},
   "outputs": [],
   "source": [
    "response1 = chat_with_tool.invoke([HumanMessage(content=\"What is 2+2?\", name=\"User\")])"
   ]
  },
  {
   "cell_type": "code",
   "execution_count": 15,
   "metadata": {},
   "outputs": [
    {
     "name": "stdout",
     "output_type": "stream",
     "text": [
      "==================================\u001b[1m Ai Message \u001b[0m==================================\n",
      "Tool Calls:\n",
      "  add (4xjjrsman)\n",
      " Call ID: 4xjjrsman\n",
      "  Args:\n",
      "    a: 2\n",
      "    b: 2\n"
     ]
    }
   ],
   "source": [
    "response1.pretty_print()"
   ]
  },
  {
   "cell_type": "code",
   "execution_count": 16,
   "metadata": {},
   "outputs": [
    {
     "data": {
      "text/plain": [
       "[{'name': 'add',\n",
       "  'args': {'a': 2, 'b': 2},\n",
       "  'id': '4xjjrsman',\n",
       "  'type': 'tool_call'}]"
      ]
     },
     "execution_count": 16,
     "metadata": {},
     "output_type": "execute_result"
    }
   ],
   "source": [
    "response1.tool_calls"
   ]
  },
  {
   "cell_type": "markdown",
   "metadata": {},
   "source": [
    "#### Using meassage as state"
   ]
  },
  {
   "cell_type": "code",
   "execution_count": 17,
   "metadata": {},
   "outputs": [],
   "source": [
    "from typing_extensions import TypedDict\n",
    "from langchain_core.messages import AnyMessage\n",
    "\n",
    "class State(TypedDict):\n",
    "    messages:list[AnyMessage]"
   ]
  },
  {
   "cell_type": "code",
   "execution_count": 18,
   "metadata": {},
   "outputs": [],
   "source": [
    "### Reducer\n",
    "\n",
    "from langgraph.graph.message import add_messages\n",
    "from typing import Annotated\n",
    "\n",
    "class stateclass(TypedDict):\n",
    "    messages: Annotated[list[AnyMessage], add_messages]"
   ]
  },
  {
   "cell_type": "code",
   "execution_count": 19,
   "metadata": {},
   "outputs": [],
   "source": [
    "#### Reducer with messages"
   ]
  },
  {
   "cell_type": "code",
   "execution_count": 20,
   "metadata": {},
   "outputs": [
    {
     "data": {
      "text/plain": [
       "[AIMessage(content='Hello, how can I help you today?', additional_kwargs={}, response_metadata={}, name='LLM'),\n",
       " HumanMessage(content='What are the best places to visit in the world?', additional_kwargs={}, response_metadata={}, name='User')]"
      ]
     },
     "execution_count": 20,
     "metadata": {},
     "output_type": "execute_result"
    }
   ],
   "source": [
    "initial_message = [AIMessage(content=\"Hello, how can I help you today?\", name=\"LLM\")]\n",
    "initial_message.append(HumanMessage(content=\"What are the best places to visit in the world?\", name=\"User\"))\n",
    "initial_message"
   ]
  },
  {
   "cell_type": "code",
   "execution_count": 21,
   "metadata": {},
   "outputs": [
    {
     "data": {
      "text/plain": [
       "[AIMessage(content='Which countries are You intrested in to travel?', additional_kwargs={}, response_metadata={}, name='LLM')]"
      ]
     },
     "execution_count": 21,
     "metadata": {},
     "output_type": "execute_result"
    }
   ],
   "source": [
    "ai_message = [AIMessage(content=\"Which countries are You intrested in to travel?\", name=\"LLM\")]\n",
    "ai_message"
   ]
  },
  {
   "cell_type": "code",
   "execution_count": 22,
   "metadata": {},
   "outputs": [
    {
     "data": {
      "text/plain": [
       "[AIMessage(content='Hello, how can I help you today?', additional_kwargs={}, response_metadata={}, name='LLM', id='95bf1941-c227-49b6-a86f-62512147c825'),\n",
       " HumanMessage(content='What are the best places to visit in the world?', additional_kwargs={}, response_metadata={}, name='User', id='d400eb05-3fc3-42be-b02d-a757897fb285'),\n",
       " AIMessage(content='Which countries are You intrested in to travel?', additional_kwargs={}, response_metadata={}, name='LLM', id='314ad9bf-3766-49c2-8d4f-a1a5f4150399')]"
      ]
     },
     "execution_count": 22,
     "metadata": {},
     "output_type": "execute_result"
    }
   ],
   "source": [
    "### Reducers add_messages is to append instead of override\n",
    "add_messages(initial_message,ai_message)"
   ]
  },
  {
   "cell_type": "code",
   "execution_count": 23,
   "metadata": {},
   "outputs": [],
   "source": [
    "## chatbot node functionality\n",
    "def llm_tool(state:stateclass):\n",
    "    return {\"messages\":[chat_with_tool.invoke(state[\"messages\"])]}"
   ]
  },
  {
   "cell_type": "code",
   "execution_count": 24,
   "metadata": {},
   "outputs": [
    {
     "data": {
      "image/png": "[encoded data removed]",
      "text/plain": [
       "<IPython.core.display.Image object>"
      ]
     },
     "metadata": {},
     "output_type": "display_data"
    }
   ],
   "source": [
    "from IPython.display import Image, display\n",
    "from langgraph.graph import StateGraph, START, END\n",
    "builder=StateGraph(stateclass)\n",
    "\n",
    "builder.add_node(\"llm_tool\",llm_tool)\n",
    "\n",
    "builder.add_edge(START,\"llm_tool\")\n",
    "builder.add_edge(\"llm_tool\",END)\n",
    "\n",
    "graph=builder.compile()\n",
    "\n",
    "display(Image(graph.get_graph().draw_mermaid_png()))"
   ]
  },
  {
   "cell_type": "code",
   "execution_count": 25,
   "metadata": {},
   "outputs": [
    {
     "name": "stdout",
     "output_type": "stream",
     "text": [
      "================================\u001b[1m Human Message \u001b[0m=================================\n",
      "\n",
      "What is 2 plus 2\n",
      "==================================\u001b[1m Ai Message \u001b[0m==================================\n",
      "Tool Calls:\n",
      "  add (kemya5vq5)\n",
      " Call ID: kemya5vq5\n",
      "  Args:\n",
      "    a: 2\n",
      "    b: 2\n"
     ]
    }
   ],
   "source": [
    "## invocation\n",
    "\n",
    "messages=graph.invoke({\"messages\":\"What is 2 plus 2\"})\n",
    "\n",
    "for message in messages[\"messages\"]:\n",
    "    message.pretty_print()"
   ]
  },
  {
   "cell_type": "code",
   "execution_count": 26,
   "metadata": {},
   "outputs": [],
   "source": [
    "tools=[add]"
   ]
  },
  {
   "cell_type": "code",
   "execution_count": 27,
   "metadata": {},
   "outputs": [],
   "source": [
    "from langgraph.prebuilt import ToolNode\n",
    "from langgraph.prebuilt import tools_condition\n",
    "\n",
    "\n",
    "builder=StateGraph(stateclass)\n",
    "\n",
    "## Add nodes\n",
    "\n",
    "builder.add_node(\"llm_tool\",llm_tool)\n",
    "builder.add_node(\"tools\",ToolNode(tools))\n",
    "\n",
    "## Add Edge\n",
    "builder.add_edge(START,\"llm_tool\")\n",
    "builder.add_conditional_edges(\n",
    "    \"llm_tool\",\n",
    "    # If the latest message (result) from assistant is a tool call -> tools_condition routes to tools\n",
    "    # If the latest message (result) from assistant is a not a tool call -> tools_condition routes to END\n",
    "    tools_condition\n",
    ")\n",
    "builder.add_edge(\"tools\",END)\n",
    "\n",
    "\n",
    "graph_builder = builder.compile()\n",
    "\n"
   ]
  },
  {
   "cell_type": "code",
   "execution_count": 28,
   "metadata": {},
   "outputs": [
    {
     "data": {
      "image/png": "[encoded data removed]",
      "text/plain": [
       "<IPython.core.display.Image object>"
      ]
     },
     "metadata": {},
     "output_type": "display_data"
    }
   ],
   "source": [
    "display(Image(graph_builder.get_graph().draw_mermaid_png()))"
   ]
  },
  {
   "cell_type": "code",
   "execution_count": 31,
   "metadata": {},
   "outputs": [
    {
     "name": "stdout",
     "output_type": "stream",
     "text": [
      "================================\u001b[1m Human Message \u001b[0m=================================\n",
      "\n",
      "What is 2 plus 2\n",
      "==================================\u001b[1m Ai Message \u001b[0m==================================\n",
      "Tool Calls:\n",
      "  add (fp3dh6m7q)\n",
      " Call ID: fp3dh6m7q\n",
      "  Args:\n",
      "    a: 2\n",
      "    b: 2\n",
      "=================================\u001b[1m Tool Message \u001b[0m=================================\n",
      "Name: add\n",
      "\n",
      "4\n"
     ]
    }
   ],
   "source": [
    "## invocation\n",
    "\n",
    "messages=graph_builder.invoke({\"messages\":\"What is 2 plus 2\"})\n",
    "\n",
    "for message in messages[\"messages\"]:\n",
    "    message.pretty_print()"
   ]
  },
  {
   "cell_type": "code",
   "execution_count": 30,
   "metadata": {},
   "outputs": [
    {
     "name": "stdout",
     "output_type": "stream",
     "text": [
      "================================\u001b[1m Human Message \u001b[0m=================================\n",
      "\n",
      "What Machine Learning\n",
      "==================================\u001b[1m Ai Message \u001b[0m==================================\n",
      "\n",
      "Machine Learning (ML) is a subset of Artificial Intelligence (AI) that focuses on developing algorithms and statistical models enabling computers to improve their performance at specific tasks *without explicit step-by-step instructions*. Instead, ML systems learn patterns from data, make predictions, or decisions based on that data.\n",
      "\n",
      "### Key Concepts:\n",
      "1. **Types of Learning**:\n",
      "   - **Supervised Learning**: Uses labeled data (e.g., predicting house prices using features like size and location).\n",
      "   - **Unsupervised Learning**: Finds hidden patterns in unlabeled data (e.g., customer segmentation).\n",
      "   - **Reinforcement Learning**: Learns through trial and error by maximizing rewards (e.g., training a AI to play a game).\n",
      "\n",
      "2. **Core Components**:\n",
      "   - **Data**: Raw input (images, text, numbers) used to train models.\n",
      "   - **Algorithms**: Methods like linear regression, decision trees, or neural networks.\n",
      "   - **Model**: The output after training, which can make predictions or decisions.\n",
      "\n",
      "3. **Applications**:\n",
      "   - **Image/ Speech Recognition** (e.g., facial recognition).\n",
      "   - **Recommendation Systems** (e.g., Netflix suggestions).\n",
      "   - **Natural Language Processing** (e.g., chatbots, translation).\n",
      "   - **Healthcare** (predicting diseases from medical scans).\n",
      "   - **Autonomous Vehicles** (detecting objects on the road).\n",
      "\n",
      "### Example Workflow:\n",
      "1. Collect data (e.g., images of cats and dogs).\n",
      "2. Train a model to distinguish between them.\n",
      "3. Deploy the model to classify new images automatically.\n",
      "\n",
      "ML is transforming industries by automating complex tasks and uncovering insights from data. Let me know if you'd like to dive deeper into a specific area!\n"
     ]
    }
   ],
   "source": [
    "messages=graph.invoke({\"messages\":\"What Machine Learning\"})\n",
    "\n",
    "for message in messages[\"messages\"]:\n",
    "    message.pretty_print()"
   ]
  },
  {
   "cell_type": "code",
   "execution_count": null,
   "metadata": {},
   "outputs": [],
   "source": []
  }
 ],
 "metadata": {
  "kernelspec": {
   "display_name": "Python 3",
   "language": "python",
   "name": "python3"
  },
  "language_info": {
   "codemirror_mode": {
    "name": "ipython",
    "version": 3
   },
   "file_extension": ".py",
   "mimetype": "text/x-python",
   "name": "python",
   "nbconvert_exporter": "python",
   "pygments_lexer": "ipython3",
   "version": "3.12.0"
  }
 },
 "nbformat": 4,
 "nbformat_minor": 2
}
