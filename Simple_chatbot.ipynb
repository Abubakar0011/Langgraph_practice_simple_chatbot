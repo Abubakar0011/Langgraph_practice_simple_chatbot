{
 "cells": [
  {
   "cell_type": "markdown",
   "metadata": {},
   "source": [
    "# Simple Chatbot Using LangGraph"
   ]
  },
  {
   "cell_type": "code",
   "execution_count": 1,
   "metadata": {},
   "outputs": [],
   "source": [
    "from typing_extensions import TypedDict\n",
    "from langgraph.graph import StateGraph, START, END"
   ]
  },
  {
   "cell_type": "code",
   "execution_count": 2,
   "metadata": {},
   "outputs": [],
   "source": [
    "### Reducers\n",
    "from typing import Annotated\n",
    "from langgraph.graph import add_messages"
   ]
  },
  {
   "cell_type": "code",
   "execution_count": 3,
   "metadata": {},
   "outputs": [],
   "source": [
    "class State(TypedDict):\n",
    "    messages: Annotated[list, add_messages]"
   ]
  },
  {
   "cell_type": "code",
   "execution_count": 4,
   "metadata": {},
   "outputs": [
    {
     "data": {
      "text/plain": [
       "True"
      ]
     },
     "execution_count": 4,
     "metadata": {},
     "output_type": "execute_result"
    }
   ],
   "source": [
    "import os \n",
    "from dotenv import load_dotenv\n",
    "load_dotenv()"
   ]
  },
  {
   "cell_type": "code",
   "execution_count": 5,
   "metadata": {},
   "outputs": [],
   "source": [
    "os.environ[\"OPENAI_API_KEY\"]=os.getenv(\"OPENAI_API_KEY\")\n",
    "os.environ['GROQ_API_KEY'] = os.getenv('GROQ_API_KEY')"
   ]
  },
  {
   "cell_type": "code",
   "execution_count": null,
   "metadata": {},
   "outputs": [],
   "source": [
    "from langchain_openai import ChatOpenAI\n",
    "llm=ChatOpenAI(model=\"gpt-4o\")\n",
    "llm.invoke(\"Hello\")"
   ]
  },
  {
   "cell_type": "code",
   "execution_count": 6,
   "metadata": {},
   "outputs": [
    {
     "data": {
      "text/plain": [
       "AIMessage(content='\\n<think>\\nOkay, so the user gave me their name, Abubakar Saddiq. I need to respond appropriately. Let me start by greeting them back. I should make sure to use their full name to be polite. Maybe say something like, \"Hello Abubakar Saddiq, nice to meet you!\" Then, I should ask them how I can assist them today. I want to keep it friendly and open-ended so they feel comfortable to ask anything. Let me check for any typos or errors. Hmm, looks good. Alright, that should work.\\n</think>\\n\\nHello Abubakar Saddiq, nice to meet you! How can I assist you today? Feel free to ask me any questions or let me know if you need help with anything specific! 😊', additional_kwargs={}, response_metadata={'token_usage': {'completion_tokens': 158, 'prompt_tokens': 21, 'total_tokens': 179, 'completion_time': 0.365543411, 'prompt_time': 0.004684697, 'queue_time': 3.57958529, 'total_time': 0.370228108}, 'model_name': 'qwen-qwq-32b', 'system_fingerprint': 'fp_a91d9c2cfb', 'finish_reason': 'stop', 'logprobs': None}, id='run--a60f6f3c-4148-47db-b149-35378d7263d7-0', usage_metadata={'input_tokens': 21, 'output_tokens': 158, 'total_tokens': 179})"
      ]
     },
     "execution_count": 6,
     "metadata": {},
     "output_type": "execute_result"
    }
   ],
   "source": [
    "from langchain_groq import ChatGroq\n",
    "model = ChatGroq(model='qwen-qwq-32b')\n",
    "model.invoke(\"Hello my name is Abubakar Saddiq.\")"
   ]
  },
  {
   "cell_type": "markdown",
   "metadata": {},
   "source": [
    "##### Creating Nodes and Edges"
   ]
  },
  {
   "cell_type": "code",
   "execution_count": 7,
   "metadata": {},
   "outputs": [],
   "source": [
    "def mybot(state:State):\n",
    "    return {\"messages\": model.invoke(state['messages'])}"
   ]
  },
  {
   "cell_type": "code",
   "execution_count": 8,
   "metadata": {},
   "outputs": [
    {
     "data": {
      "text/plain": [
       "<langgraph.graph.state.StateGraph at 0x1037c4ef0>"
      ]
     },
     "execution_count": 8,
     "metadata": {},
     "output_type": "execute_result"
    }
   ],
   "source": [
    "graph = StateGraph(State)\n",
    "\n",
    "graph.add_node(\"my_bot\", mybot)\n",
    "\n",
    "graph.add_edge(START, \"my_bot\")\n",
    "graph.add_edge(\"my_bot\", END)"
   ]
  },
  {
   "cell_type": "code",
   "execution_count": 9,
   "metadata": {},
   "outputs": [],
   "source": [
    "### Compiling the Graph\n",
    "graph_builder = graph.compile()"
   ]
  },
  {
   "cell_type": "code",
   "execution_count": 10,
   "metadata": {},
   "outputs": [
    {
     "data": {
      "image/png": "[encoded data removed]",
      "text/plain": [
       "<IPython.core.display.Image object>"
      ]
     },
     "metadata": {},
     "output_type": "display_data"
    }
   ],
   "source": [
    "## Display\n",
    "from IPython.display import Image, display\n",
    "display(Image(graph_builder.get_graph().draw_mermaid_png()))"
   ]
  },
  {
   "cell_type": "code",
   "execution_count": 11,
   "metadata": {},
   "outputs": [
    {
     "data": {
      "text/plain": [
       "{'messages': [HumanMessage(content='Hello, my name is Abubakar Saddiq.', additional_kwargs={}, response_metadata={}, id='9c134536-43db-4129-a009-d49563e86e8a'),\n",
       "  AIMessage(content=\"\\n<think>\\nOkay, the user introduced himself as Abubakar Saddiq. I should respond politely. Let me start by greeting him and thanking him for introducing himself. I should make sure to mention his name again to keep the conversation personal. Maybe ask him how I can assist him today. Keep it friendly and open-ended so he feels comfortable to ask anything. Let me check the response again to ensure it's natural and not too formal. Yep, that should work.\\n</think>\\n\\nHello Abubakar Saddiq! Nice to meet you. How can I assist you today? Feel free to ask me any questions or let me know if you need help with anything specific. 😊\", additional_kwargs={}, response_metadata={'token_usage': {'completion_tokens': 137, 'prompt_tokens': 22, 'total_tokens': 159, 'completion_time': 0.335102469, 'prompt_time': 0.003598945, 'queue_time': 1.5232993080000001, 'total_time': 0.338701414}, 'model_name': 'qwen-qwq-32b', 'system_fingerprint': 'fp_98b01f25b2', 'finish_reason': 'stop', 'logprobs': None}, id='run--ec35591d-ece5-4789-acb2-c411b7902fb7-0', usage_metadata={'input_tokens': 22, 'output_tokens': 137, 'total_tokens': 159})]}"
      ]
     },
     "execution_count": 11,
     "metadata": {},
     "output_type": "execute_result"
    }
   ],
   "source": [
    "### Graph Invocation\n",
    "graph_builder.invoke({\"messages\":\"Hello, my name is Abubakar Saddiq.\"})"
   ]
  },
  {
   "cell_type": "code",
   "execution_count": 12,
   "metadata": {},
   "outputs": [
    {
     "name": "stdout",
     "output_type": "stream",
     "text": [
      "{'my_bot': {'messages': AIMessage(content='\\n<think>\\nOkay, the user wrote \"Hello My name is KRish\". I should start by greeting them back. Let me see... \"Hello KRish!\" That\\'s friendly. Then maybe ask how they\\'re doing today. Keep it open-ended so they can share more. I should make sure to use proper grammar and be welcoming. Let me check for any typos. Yep, looks good. Alright, that\\'s the response.\\n</think>\\n\\nHello KRish! Nice to meet you. How are you today? Feel free to ask me any questions or let me know if you need help with anything specific! 😊', additional_kwargs={}, response_metadata={'token_usage': {'completion_tokens': 123, 'prompt_tokens': 16, 'total_tokens': 139, 'completion_time': 0.284672118, 'prompt_time': 0.004586096, 'queue_time': 1.277771302, 'total_time': 0.289258214}, 'model_name': 'qwen-qwq-32b', 'system_fingerprint': 'fp_a91d9c2cfb', 'finish_reason': 'stop', 'logprobs': None}, id='run--64fb49e7-bf35-4e28-9634-5a7770a4307a-0', usage_metadata={'input_tokens': 16, 'output_tokens': 123, 'total_tokens': 139})}}\n"
     ]
    }
   ],
   "source": [
    "### Streaming the Response\n",
    "\n",
    "for event in graph_builder.stream({\"messages\":\"Hello My name is KRish\"}):\n",
    "    print(event)"
   ]
  },
  {
   "cell_type": "code",
   "execution_count": null,
   "metadata": {},
   "outputs": [],
   "source": []
  }
 ],
 "metadata": {
  "kernelspec": {
   "display_name": "Python 3",
   "language": "python",
   "name": "python3"
  },
  "language_info": {
   "codemirror_mode": {
    "name": "ipython",
    "version": 3
   },
   "file_extension": ".py",
   "mimetype": "text/x-python",
   "name": "python",
   "nbconvert_exporter": "python",
   "pygments_lexer": "ipython3",
   "version": "3.12.0"
  }
 },
 "nbformat": 4,
 "nbformat_minor": 2
}
